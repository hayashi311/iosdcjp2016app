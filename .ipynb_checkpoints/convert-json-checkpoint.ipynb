{
 "cells": [
  {
   "cell_type": "code",
   "execution_count": 1,
   "metadata": {
    "collapsed": true
   },
   "outputs": [],
   "source": [
    "import requests\n",
    "import yaml"
   ]
  },
  {
   "cell_type": "code",
   "execution_count": 2,
   "metadata": {
    "collapsed": false
   },
   "outputs": [],
   "source": [
    "response = requests.get(\"https://iosdc.jp/2016/c/api/talks.json\")"
   ]
  },
  {
   "cell_type": "code",
   "execution_count": 3,
   "metadata": {
    "collapsed": false
   },
   "outputs": [],
   "source": [
    "j = response.json()"
   ]
  },
  {
   "cell_type": "code",
   "execution_count": 4,
   "metadata": {
    "collapsed": false
   },
   "outputs": [
    {
     "data": {
      "text/plain": [
       "40"
      ]
     },
     "execution_count": 4,
     "metadata": {},
     "output_type": "execute_result"
    }
   ],
   "source": [
    "len(j)"
   ]
  },
  {
   "cell_type": "code",
   "execution_count": 5,
   "metadata": {
    "collapsed": false
   },
   "outputs": [
    {
     "data": {
      "text/plain": [
       "{'changed': [{'value': '1470558644'}],\n",
       " 'created': [{'value': '1467108923'}],\n",
       " 'default_langcode': [{'value': '1'}],\n",
       " 'field_abstract': [{'format': None,\n",
       "   'value': 'フリマアプリ フリルはここ1年で2度の大規模リニューアルを行いました。\\nこのトークではフリルでの経験を元に、ユーザーに受け入れられ、問題を起こしづらいリニューアルの進め方をエンジニア目線でお話しします。\\nリニューアルでありがちな大きなバグの発生や、星1レビューの嵐をいかにして防ぐか、開発チームの総力戦となる大規模プロジェクトをいかにスムーズに進めるかについてお話しします。'}],\n",
       " 'field_no': [{'value': '55'}],\n",
       " 'field_slide_will_be_shared': [{'value': '1'}],\n",
       " 'field_speaker': [{'value': 'shoby'}],\n",
       " 'field_speaker_twitter': [{'value': 'shobyshoby'}],\n",
       " 'field_submitted_at': [],\n",
       " 'field_talk_adopted': [{'value': '1'}],\n",
       " 'field_talk_date': [{'value': '2016/08/19'}],\n",
       " 'field_talk_room': [{'value': 'A'}],\n",
       " 'field_talk_start_at': [{'value': '2016/08/19 17:40'}],\n",
       " 'field_talk_time': [{'value': '30分'}],\n",
       " 'langcode': [{'value': 'ja'}],\n",
       " 'nid': [{'value': '84'}],\n",
       " 'path': [],\n",
       " 'promote': [{'value': '1'}],\n",
       " 'revision_log': [],\n",
       " 'revision_timestamp': [{'value': '1467108923'}],\n",
       " 'revision_translation_affected': [{'value': '1'}],\n",
       " 'revision_uid': [{'target_id': '0',\n",
       "   'target_type': 'user',\n",
       "   'target_uuid': '5972e388-7b01-40dd-bc00-d1b758c9850d',\n",
       "   'url': '/2016/c/en/user/0'}],\n",
       " 'status': [{'value': '1'}],\n",
       " 'sticky': [{'value': '0'}],\n",
       " 'title': [{'value': 'ユーザーに受け入れられ、問題を起こしづらい大規模リニューアルの進め方'}],\n",
       " 'type': [{'target_id': 'paper',\n",
       "   'target_type': 'node_type',\n",
       "   'target_uuid': '524edc0e-1589-4a93-8d00-dba5aeea6c69'}],\n",
       " 'uid': [{'target_id': '0',\n",
       "   'target_type': 'user',\n",
       "   'target_uuid': '5972e388-7b01-40dd-bc00-d1b758c9850d',\n",
       "   'url': '/2016/c/en/user/0'}],\n",
       " 'uuid': [{'value': '3364a7eb-d598-4a98-bb03-3b08f0bc4a3f'}],\n",
       " 'vid': [{'value': '88'}]}"
      ]
     },
     "execution_count": 5,
     "metadata": {},
     "output_type": "execute_result"
    }
   ],
   "source": [
    "j[0]"
   ]
  },
  {
   "cell_type": "code",
   "execution_count": 10,
   "metadata": {
    "collapsed": false
   },
   "outputs": [],
   "source": [
    "\n",
    "def normalize(session):\n",
    "    def get_value(d, k):\n",
    "        try:\n",
    "            return d[k][0][\"value\"]\n",
    "        except:\n",
    "            return None\n",
    "    links = []\n",
    "    twitter_account = get_value(session, \"field_speaker_twitter\")\n",
    "    if twitter_account is not None:\n",
    "        links.append({\n",
    "            \"title\": \"@\" + twitter_account,\n",
    "            \"url\": \"https://twitter.com/\" + twitter_account\n",
    "        })\n",
    "    nid = get_value(session, \"nid\")\n",
    "    enable_to_vote = True\n",
    "    if enable_to_vote:\n",
    "        links.append({\n",
    "                \"title\": \"投票\",\n",
    "                \"url\": \"iosdc://vote/\" + nid\n",
    "            })\n",
    "    return {\n",
    "        \n",
    "        \"session\": {\n",
    "            \"description\": get_value(session, \"field_abstract\"),\n",
    "            \"title\": get_value(session, \"title\"),\n",
    "            \"start_at\": get_value(session, \"field_talk_start_at\"),\n",
    "            \"room\": get_value(session, \"field_talk_room\"),\n",
    "            \"time\": get_value(session, \"field_talk_time\"),\n",
    "            \"nid\": nid,\n",
    "            \"links\": links,\n",
    "            \"speaker\": {\n",
    "                \"name\": get_value(session, \"field_speaker\"),\n",
    "                \"twitter_account\": twitter_account,\n",
    "            },\n",
    "        }\n",
    "    }\n",
    "\n",
    "def normalize_sessions(sessions):\n",
    "    for s in sessions:\n",
    "        yield normalize(s)"
   ]
  },
  {
   "cell_type": "code",
   "execution_count": 11,
   "metadata": {
    "collapsed": false
   },
   "outputs": [],
   "source": [
    "session = list(normalize_sessions(j))[0]\n",
    "def user_name(s):\n",
    "    t = s[\"session\"][\"speaker\"][\"twitter_account\"]\n",
    "    if t is not None:\n",
    "        return t\n",
    "    else:\n",
    "        return s[\"session\"][\"speaker\"][\"name\"]"
   ]
  },
  {
   "cell_type": "code",
   "execution_count": 12,
   "metadata": {
    "collapsed": false
   },
   "outputs": [
    {
     "name": "stdout",
     "output_type": "stream",
     "text": [
      "84 shoby\n",
      "72 Yuki Takei\n",
      "34 田中賢治\n",
      "123 kazunori kikuchi\n",
      "36 huin\n",
      "40 宇佐見 公輔\n",
      "110 へんてこ\n",
      "208 Kishikawa Katsumi\n",
      "146 堤 修一\n",
      "168 藤崎 智宏/岡田 雅之\n",
      "139 ishkawa\n",
      "124 meyco\n",
      "184 TachibanaKaoru\n",
      "41 Yukinaga Azuma\n",
      "32 稲見 泰宏\n",
      "122 Yusuke Wada\n",
      "133 Mao Nishi\n",
      "54 Kosuke Ogawa\n",
      "129 Ray Fix\n",
      "78 Noritaka Kamiya\n",
      "176 Hiroki Kato\n",
      "65 nakajijapan\n",
      "100 Yuichiro Masui\n",
      "155 小野 将之\n",
      "86 熊谷 友宏\n",
      "161 satoshi0212\n",
      "116 Toshihiro Morimoto\n",
      "71 Yuji Hato\n",
      "173 m-naruse\n",
      "37 kaneshin\n",
      "46 よぴた\n",
      "189 池田 翔\n",
      "182 にわタコ\n",
      "165 yimajo\n",
      "188 Yusuke Ohashi\n",
      "154 Motoki Narita\n",
      "55 ezura\n",
      "162 原 一史\n",
      "187 Yoichiro Sakurai\n",
      "117 wasabeef\n"
     ]
    }
   ],
   "source": [
    "for s in normalize_sessions(j):\n",
    "    print(s[\"session\"][\"nid\"], s[\"session\"][\"speaker\"][\"name\"])\n",
    "    path = \"/Users/hayashi311/Desktop/dev/iosdcjp2016app/WebAPI/data/speakers/{}.yaml\".format(user_name(s))\n",
    "    f = open(path, 'w')\n",
    "    f.write(yaml.dump(s, default_flow_style=False, allow_unicode=True))\n",
    "    f.close()"
   ]
  },
  {
   "cell_type": "code",
   "execution_count": 23,
   "metadata": {
    "collapsed": false,
    "scrolled": true
   },
   "outputs": [
    {
     "data": {
      "text/plain": [
       "'session:\\n  description: \"\\\\u30D5\\\\u30EA\\\\u30DE\\\\u30A2\\\\u30D7\\\\u30EA \\\\u30D5\\\\u30EA\\\\u30EB\\\\u306F\\\\u3053\\\\\\n    \\\\u30531\\\\u5E74\\\\u30672\\\\u5EA6\\\\u306E\\\\u5927\\\\u898F\\\\u6A21\\\\u30EA\\\\u30CB\\\\u30E5\\\\u30FC\\\\u30A2\\\\\\n    \\\\u30EB\\\\u3092\\\\u884C\\\\u3044\\\\u307E\\\\u3057\\\\u305F\\\\u3002\\\\n\\\\u3053\\\\u306E\\\\u30C8\\\\u30FC\\\\u30AF\\\\\\n    \\\\u3067\\\\u306F\\\\u30D5\\\\u30EA\\\\u30EB\\\\u3067\\\\u306E\\\\u7D4C\\\\u9A13\\\\u3092\\\\u5143\\\\u306B\\\\u3001\\\\\\n    \\\\u30E6\\\\u30FC\\\\u30B6\\\\u30FC\\\\u306B\\\\u53D7\\\\u3051\\\\u5165\\\\u308C\\\\u3089\\\\u308C\\\\u3001\\\\u554F\\\\\\n    \\\\u984C\\\\u3092\\\\u8D77\\\\u3053\\\\u3057\\\\u3065\\\\u3089\\\\u3044\\\\u30EA\\\\u30CB\\\\u30E5\\\\u30FC\\\\u30A2\\\\\\n    \\\\u30EB\\\\u306E\\\\u9032\\\\u3081\\\\u65B9\\\\u3092\\\\u30A8\\\\u30F3\\\\u30B8\\\\u30CB\\\\u30A2\\\\u76EE\\\\u7DDA\\\\\\n    \\\\u3067\\\\u304A\\\\u8A71\\\\u3057\\\\u3057\\\\u307E\\\\u3059\\\\u3002\\\\n\\\\u30EA\\\\u30CB\\\\u30E5\\\\u30FC\\\\u30A2\\\\\\n    \\\\u30EB\\\\u3067\\\\u3042\\\\u308A\\\\u304C\\\\u3061\\\\u306A\\\\u5927\\\\u304D\\\\u306A\\\\u30D0\\\\u30B0\\\\u306E\\\\\\n    \\\\u767A\\\\u751F\\\\u3084\\\\u3001\\\\u661F1\\\\u30EC\\\\u30D3\\\\u30E5\\\\u30FC\\\\u306E\\\\u5D50\\\\u3092\\\\u3044\\\\\\n    \\\\u304B\\\\u306B\\\\u3057\\\\u3066\\\\u9632\\\\u3050\\\\u304B\\\\u3001\\\\u958B\\\\u767A\\\\u30C1\\\\u30FC\\\\u30E0\\\\\\n    \\\\u306E\\\\u7DCF\\\\u529B\\\\u6226\\\\u3068\\\\u306A\\\\u308B\\\\u5927\\\\u898F\\\\u6A21\\\\u30D7\\\\u30ED\\\\u30B8\\\\\\n    \\\\u30A7\\\\u30AF\\\\u30C8\\\\u3092\\\\u3044\\\\u304B\\\\u306B\\\\u30B9\\\\u30E0\\\\u30FC\\\\u30BA\\\\u306B\\\\u9032\\\\\\n    \\\\u3081\\\\u308B\\\\u304B\\\\u306B\\\\u3064\\\\u3044\\\\u3066\\\\u304A\\\\u8A71\\\\u3057\\\\u3057\\\\u307E\\\\u3059\\\\\\n    \\\\u3002\"\\n  nid: \\'84\\'\\n  room: A\\n  speaker:\\n    name: shoby\\n    twitter_account: shobyshoby\\n  start_at: 2016/08/19 17:40\\n  time: \"30\\\\u5206\"\\n  title: \"\\\\u30E6\\\\u30FC\\\\u30B6\\\\u30FC\\\\u306B\\\\u53D7\\\\u3051\\\\u5165\\\\u308C\\\\u3089\\\\u308C\\\\u3001\\\\\\n    \\\\u554F\\\\u984C\\\\u3092\\\\u8D77\\\\u3053\\\\u3057\\\\u3065\\\\u3089\\\\u3044\\\\u5927\\\\u898F\\\\u6A21\\\\u30EA\\\\\\n    \\\\u30CB\\\\u30E5\\\\u30FC\\\\u30A2\\\\u30EB\\\\u306E\\\\u9032\\\\u3081\\\\u65B9\"\\n'"
      ]
     },
     "execution_count": 23,
     "metadata": {},
     "output_type": "execute_result"
    }
   ],
   "source": [
    "yaml.dump(session, default_flow_style=False)"
   ]
  },
  {
   "cell_type": "code",
   "execution_count": null,
   "metadata": {
    "collapsed": true
   },
   "outputs": [],
   "source": []
  },
  {
   "cell_type": "code",
   "execution_count": null,
   "metadata": {
    "collapsed": true
   },
   "outputs": [],
   "source": []
  }
 ],
 "metadata": {
  "kernelspec": {
   "display_name": "Python 3",
   "language": "python",
   "name": "python3"
  },
  "language_info": {
   "codemirror_mode": {
    "name": "ipython",
    "version": 3
   },
   "file_extension": ".py",
   "mimetype": "text/x-python",
   "name": "python",
   "nbconvert_exporter": "python",
   "pygments_lexer": "ipython3",
   "version": "3.5.0"
  }
 },
 "nbformat": 4,
 "nbformat_minor": 0
}
