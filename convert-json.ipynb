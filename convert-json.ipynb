{
 "cells": [
  {
   "cell_type": "code",
   "execution_count": 1,
   "metadata": {
    "collapsed": true
   },
   "outputs": [],
   "source": [
    "import requests\n",
    "import yaml\n",
    "import os.path"
   ]
  },
  {
   "cell_type": "code",
   "execution_count": 2,
   "metadata": {
    "collapsed": false
   },
   "outputs": [],
   "source": [
    "response = requests.get(\"https://iosdc.jp/2016/c/api/talks.json\")"
   ]
  },
  {
   "cell_type": "code",
   "execution_count": 3,
   "metadata": {
    "collapsed": false
   },
   "outputs": [],
   "source": [
    "j = response.json()"
   ]
  },
  {
   "cell_type": "code",
   "execution_count": 4,
   "metadata": {
    "collapsed": false
   },
   "outputs": [
    {
     "data": {
      "text/plain": [
       "40"
      ]
     },
     "execution_count": 4,
     "metadata": {},
     "output_type": "execute_result"
    }
   ],
   "source": [
    "len(j)"
   ]
  },
  {
   "cell_type": "code",
   "execution_count": 5,
   "metadata": {
    "collapsed": false
   },
   "outputs": [
    {
     "data": {
      "text/plain": [
       "{'changed': [{'value': '1471532044'}],\n",
       " 'created': [{'value': '1467108923'}],\n",
       " 'default_langcode': [{'value': '1'}],\n",
       " 'field_abstract': [{'format': None,\n",
       "   'value': 'フリマアプリ フリルはここ1年で2度の大規模リニューアルを行いました。\\nこのトークではフリルでの経験を元に、ユーザーに受け入れられ、問題を起こしづらいリニューアルの進め方をエンジニア目線でお話しします。\\nリニューアルでありがちな大きなバグの発生や、星1レビューの嵐をいかにして防ぐか、開発チームの総力戦となる大規模プロジェクトをいかにスムーズに進めるかについてお話しします。'}],\n",
       " 'field_adoption_no': [],\n",
       " 'field_no': [{'value': '55'}],\n",
       " 'field_slide_will_be_shared': [{'value': '1'}],\n",
       " 'field_speaker': [{'value': 'shoby'}],\n",
       " 'field_speaker_twitter': [{'value': 'shobyshoby'}],\n",
       " 'field_submitted_at': [],\n",
       " 'field_talk_adopted': [{'value': '1'}],\n",
       " 'field_talk_date': [{'value': '2016/08/19'}],\n",
       " 'field_talk_room': [{'value': 'A'}],\n",
       " 'field_talk_start_at': [{'value': '2016/08/19 17:40'}],\n",
       " 'field_talk_time': [{'value': '30分'}],\n",
       " 'langcode': [{'value': 'ja'}],\n",
       " 'nid': [{'value': '84'}],\n",
       " 'path': [],\n",
       " 'promote': [{'value': '1'}],\n",
       " 'revision_log': [],\n",
       " 'revision_timestamp': [{'value': '1467108923'}],\n",
       " 'revision_translation_affected': [{'value': '1'}],\n",
       " 'revision_uid': [{'target_id': '0',\n",
       "   'target_type': 'user',\n",
       "   'target_uuid': '5972e388-7b01-40dd-bc00-d1b758c9850d',\n",
       "   'url': '/2016/c/en/user/0'}],\n",
       " 'status': [{'value': '1'}],\n",
       " 'sticky': [{'value': '0'}],\n",
       " 'title': [{'value': 'ユーザーに受け入れられ、問題を起こしづらい大規模リニューアルの進め方'}],\n",
       " 'type': [{'target_id': 'paper',\n",
       "   'target_type': 'node_type',\n",
       "   'target_uuid': '524edc0e-1589-4a93-8d00-dba5aeea6c69'}],\n",
       " 'uid': [{'target_id': '0',\n",
       "   'target_type': 'user',\n",
       "   'target_uuid': '5972e388-7b01-40dd-bc00-d1b758c9850d',\n",
       "   'url': '/2016/c/en/user/0'}],\n",
       " 'uuid': [{'value': '3364a7eb-d598-4a98-bb03-3b08f0bc4a3f'}],\n",
       " 'vid': [{'value': '88'}]}"
      ]
     },
     "execution_count": 5,
     "metadata": {},
     "output_type": "execute_result"
    }
   ],
   "source": [
    "j[0]"
   ]
  },
  {
   "cell_type": "code",
   "execution_count": 6,
   "metadata": {
    "collapsed": false
   },
   "outputs": [],
   "source": [
    "\n",
    "def normalize(session):\n",
    "    def get_value(d, k):\n",
    "        try:\n",
    "            return d[k][0][\"value\"]\n",
    "        except:\n",
    "            return None\n",
    "    links = []\n",
    "    twitter_account = get_value(session, \"field_speaker_twitter\")\n",
    "    if twitter_account is not None:\n",
    "        links.append({\n",
    "            \"title\": \"@\" + twitter_account,\n",
    "            \"url\": \"https://twitter.com/\" + twitter_account\n",
    "        })\n",
    "    nid = get_value(session, \"nid\")\n",
    "    enable_to_vote = True\n",
    "    if enable_to_vote:\n",
    "        links.append({\n",
    "                \"title\": \"投票\",\n",
    "                \"url\": \"https://iosdc.herokuapp.com/vote/\" + nid\n",
    "            })\n",
    "    return {\n",
    "        \n",
    "        \"session\": {\n",
    "            \"description\": get_value(session, \"field_abstract\"),\n",
    "            \"title\": get_value(session, \"title\"),\n",
    "            \"start_at\": get_value(session, \"field_talk_start_at\"),\n",
    "            \"room\": get_value(session, \"field_talk_room\"),\n",
    "            \"time\": get_value(session, \"field_talk_time\"),\n",
    "            \"nid\": nid,\n",
    "            \"links\": links,\n",
    "            \"speaker\": {\n",
    "                \"name\": get_value(session, \"field_speaker\"),\n",
    "                \"twitter_account\": twitter_account,\n",
    "            },\n",
    "        }\n",
    "    }\n",
    "\n",
    "def normalize_sessions(sessions):\n",
    "    for s in sessions:\n",
    "        yield normalize(s)"
   ]
  },
  {
   "cell_type": "code",
   "execution_count": 7,
   "metadata": {
    "collapsed": false
   },
   "outputs": [],
   "source": [
    "session = list(normalize_sessions(j))[0]\n",
    "def user_name(s):\n",
    "    t = s[\"session\"][\"speaker\"][\"twitter_account\"]\n",
    "    if t is not None:\n",
    "        return t\n",
    "    else:\n",
    "        return s[\"session\"][\"speaker\"][\"name\"]"
   ]
  },
  {
   "cell_type": "code",
   "execution_count": 8,
   "metadata": {
    "collapsed": false,
    "scrolled": true
   },
   "outputs": [
    {
     "data": {
      "text/plain": [
       "{'session': {'description': 'フリマアプリ フリルはここ1年で2度の大規模リニューアルを行いました。\\nこのトークではフリルでの経験を元に、ユーザーに受け入れられ、問題を起こしづらいリニューアルの進め方をエンジニア目線でお話しします。\\nリニューアルでありがちな大きなバグの発生や、星1レビューの嵐をいかにして防ぐか、開発チームの総力戦となる大規模プロジェクトをいかにスムーズに進めるかについてお話しします。',\n",
       "  'links': [{'title': '@shobyshoby', 'url': 'https://twitter.com/shobyshoby'},\n",
       "   {'title': '投票', 'url': 'https://iosdc.herokuapp.com/vote/84'}],\n",
       "  'nid': '84',\n",
       "  'room': 'A',\n",
       "  'speaker': {'name': 'shoby', 'twitter_account': 'shobyshoby'},\n",
       "  'start_at': '2016/08/19 17:40',\n",
       "  'time': '30分',\n",
       "  'title': 'ユーザーに受け入れられ、問題を起こしづらい大規模リニューアルの進め方'}}"
      ]
     },
     "execution_count": 8,
     "metadata": {},
     "output_type": "execute_result"
    }
   ],
   "source": [
    "session"
   ]
  },
  {
   "cell_type": "code",
   "execution_count": 9,
   "metadata": {
    "collapsed": false
   },
   "outputs": [],
   "source": [
    "def twitter_account(s):\n",
    "    t = s[\"session\"][\"speaker\"][\"twitter_account\"]\n",
    "    if t is not None:\n",
    "        return t\n",
    "    else:\n",
    "        return None\n",
    "\n",
    "twac = twitter_account(session)"
   ]
  },
  {
   "cell_type": "code",
   "execution_count": 10,
   "metadata": {
    "collapsed": true
   },
   "outputs": [],
   "source": [
    "import tweepy\n",
    "key = \"\"\n",
    "api_secret = \"\"\n",
    "auth = tweepy.OAuthHandler(key, api_secret)\n",
    "twapi = tweepy.API(auth)"
   ]
  },
  {
   "cell_type": "code",
   "execution_count": null,
   "metadata": {
    "collapsed": false
   },
   "outputs": [],
   "source": [
    "user = twapi.get_user(twac)"
   ]
  },
  {
   "cell_type": "code",
   "execution_count": null,
   "metadata": {
    "collapsed": false
   },
   "outputs": [],
   "source": [
    "image_url = user.profile_image_url.replace(\"_normal\", \"\")\n",
    "# image_url = user.profile_image_url"
   ]
  },
  {
   "cell_type": "code",
   "execution_count": null,
   "metadata": {
    "collapsed": false
   },
   "outputs": [],
   "source": [
    "img_response = requests.get(image_url, stream=True)\n",
    "img_response"
   ]
  },
  {
   "cell_type": "code",
   "execution_count": null,
   "metadata": {
    "collapsed": false
   },
   "outputs": [],
   "source": [
    "img_response.raw.data"
   ]
  },
  {
   "cell_type": "code",
   "execution_count": null,
   "metadata": {
    "collapsed": false
   },
   "outputs": [],
   "source": [
    "img_response.raw\n",
    "\n",
    "path = \"/Users/hayashi311/Desktop/dev/iosdcjp2016app/WebAPI/static/speakers/{}.jpg\".format(twac)\n",
    "\n",
    "if img_response.status_code == 200:\n",
    "    with open(path, 'wb') as f:\n",
    "        f.write(img_response.raw.data)"
   ]
  },
  {
   "cell_type": "code",
   "execution_count": null,
   "metadata": {
    "collapsed": true
   },
   "outputs": [],
   "source": [
    "    i = img_response.raw"
   ]
  },
  {
   "cell_type": "code",
   "execution_count": null,
   "metadata": {
    "collapsed": false
   },
   "outputs": [],
   "source": [
    "def fetch_user_image(user_name):\n",
    "    jpg_path = \"/Users/hayashi311/Desktop/dev/iosdcjp2016app/WebAPI/static/speakers/{}.jpg\".format(user_name)\n",
    "    if os.path.isfile(jpg_path):\n",
    "        print(user_name,': image file exists')\n",
    "        return \"/static/speakers/{}.jpg\".format(user_name)\n",
    "    png_path = \"/Users/hayashi311/Desktop/dev/iosdcjp2016app/WebAPI/static/speakers/{}.png\".format(user_name)\n",
    "    if os.path.isfile(png_path):\n",
    "        print(user_name,': image file exists')\n",
    "        return \"/static/speakers/{}.png\".format(user_name)\n",
    "    print(user_name,': fetch image')\n",
    "    user = twapi.get_user(twac)\n",
    "    image_url = user.profile_image_url.replace(\"_normal\", \"\")\n",
    "    img_response = requests.get(image_url, stream=True)\n",
    "    if img_response.status_code == 200:\n",
    "        with open(path, 'wb') as f:\n",
    "            f.write(img_response.raw.data)\n",
    "    return \"/static/speakers/{}.jpg\".format(user_name)\n",
    "    \n",
    "\n",
    "fetch_user_image(twitter_account(session))\n",
    "\n"
   ]
  },
  {
   "cell_type": "code",
   "execution_count": null,
   "metadata": {
    "collapsed": true
   },
   "outputs": [],
   "source": []
  },
  {
   "cell_type": "code",
   "execution_count": null,
   "metadata": {
    "collapsed": false
   },
   "outputs": [],
   "source": [
    "for s in normalize_sessions(j):\n",
    "    print(s[\"session\"][\"nid\"], s[\"session\"][\"speaker\"][\"name\"])\n",
    "    twac = twitter_account(s)\n",
    "    if twac is not None:\n",
    "        s[\"session\"][\"speaker\"][\"image\"] = fetch_user_image(twac)\n",
    "    \n",
    "    path = \"/Users/hayashi311/Desktop/dev/iosdcjp2016app/WebAPI/data/speakers/{}.yaml\".format(user_name(s))\n",
    "    f = open(path, 'w')\n",
    "    f.write(yaml.dump(s, default_flow_style=False, allow_unicode=True))\n",
    "    f.close()"
   ]
  },
  {
   "cell_type": "code",
   "execution_count": null,
   "metadata": {
    "collapsed": true
   },
   "outputs": [],
   "source": []
  }
 ],
 "metadata": {
  "kernelspec": {
   "display_name": "Python 3",
   "language": "python",
   "name": "python3"
  },
  "language_info": {
   "codemirror_mode": {
    "name": "ipython",
    "version": 3
   },
   "file_extension": ".py",
   "mimetype": "text/x-python",
   "name": "python",
   "nbconvert_exporter": "python",
   "pygments_lexer": "ipython3",
   "version": "3.5.0"
  }
 },
 "nbformat": 4,
 "nbformat_minor": 0
}
