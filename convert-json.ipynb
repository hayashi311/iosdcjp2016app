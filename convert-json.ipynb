{
 "cells": [
  {
   "cell_type": "code",
   "execution_count": null,
   "metadata": {
    "collapsed": true
   },
   "outputs": [],
   "source": [
    "import requests\n",
    "import yaml\n",
    "import os.path"
   ]
  },
  {
   "cell_type": "code",
   "execution_count": null,
   "metadata": {
    "collapsed": false
   },
   "outputs": [],
   "source": [
    "response = requests.get(\"https://iosdc.jp/2016/c/api/talks.json\")"
   ]
  },
  {
   "cell_type": "code",
   "execution_count": null,
   "metadata": {
    "collapsed": false
   },
   "outputs": [],
   "source": [
    "j = response.json()"
   ]
  },
  {
   "cell_type": "code",
   "execution_count": null,
   "metadata": {
    "collapsed": false
   },
   "outputs": [],
   "source": [
    "len(j)"
   ]
  },
  {
   "cell_type": "code",
   "execution_count": null,
   "metadata": {
    "collapsed": false
   },
   "outputs": [],
   "source": [
    "j[0]"
   ]
  },
  {
   "cell_type": "code",
   "execution_count": null,
   "metadata": {
    "collapsed": false
   },
   "outputs": [],
   "source": [
    "\n",
    "def normalize(session):\n",
    "    def get_value(d, k):\n",
    "        try:\n",
    "            return d[k][0][\"value\"]\n",
    "        except:\n",
    "            return None\n",
    "    links = []\n",
    "    twitter_account = get_value(session, \"field_speaker_twitter\")\n",
    "    if twitter_account is not None:\n",
    "        links.append({\n",
    "            \"title\": \"@\" + twitter_account,\n",
    "            \"url\": \"https://twitter.com/\" + twitter_account\n",
    "        })\n",
    "    nid = get_value(session, \"nid\")\n",
    "    enable_to_vote = True\n",
    "    if enable_to_vote:\n",
    "        links.append({\n",
    "                \"title\": \"投票\",\n",
    "                \"url\": \"iosdc://vote/\" + nid\n",
    "            })\n",
    "    return {\n",
    "        \n",
    "        \"session\": {\n",
    "            \"description\": get_value(session, \"field_abstract\"),\n",
    "            \"title\": get_value(session, \"title\"),\n",
    "            \"start_at\": get_value(session, \"field_talk_start_at\"),\n",
    "            \"room\": get_value(session, \"field_talk_room\"),\n",
    "            \"time\": get_value(session, \"field_talk_time\"),\n",
    "            \"nid\": nid,\n",
    "            \"links\": links,\n",
    "            \"speaker\": {\n",
    "                \"name\": get_value(session, \"field_speaker\"),\n",
    "                \"twitter_account\": twitter_account,\n",
    "            },\n",
    "        }\n",
    "    }\n",
    "\n",
    "def normalize_sessions(sessions):\n",
    "    for s in sessions:\n",
    "        yield normalize(s)"
   ]
  },
  {
   "cell_type": "code",
   "execution_count": null,
   "metadata": {
    "collapsed": false
   },
   "outputs": [],
   "source": [
    "session = list(normalize_sessions(j))[0]\n",
    "def user_name(s):\n",
    "    t = s[\"session\"][\"speaker\"][\"twitter_account\"]\n",
    "    if t is not None:\n",
    "        return t\n",
    "    else:\n",
    "        return s[\"session\"][\"speaker\"][\"name\"]"
   ]
  },
  {
   "cell_type": "code",
   "execution_count": null,
   "metadata": {
    "collapsed": false,
    "scrolled": true
   },
   "outputs": [],
   "source": [
    "session"
   ]
  },
  {
   "cell_type": "code",
   "execution_count": null,
   "metadata": {
    "collapsed": false
   },
   "outputs": [],
   "source": [
    "def twitter_account(s):\n",
    "    t = s[\"session\"][\"speaker\"][\"twitter_account\"]\n",
    "    if t is not None:\n",
    "        return t\n",
    "    else:\n",
    "        return None\n",
    "\n",
    "twac = twitter_account(session)"
   ]
  },
  {
   "cell_type": "code",
   "execution_count": null,
   "metadata": {
    "collapsed": true
   },
   "outputs": [],
   "source": [
    "import tweepy\n",
    "key = \"\"\n",
    "api_secret = \"\"\n",
    "auth = tweepy.OAuthHandler(key, api_secret)\n",
    "twapi = tweepy.API(auth)"
   ]
  },
  {
   "cell_type": "code",
   "execution_count": null,
   "metadata": {
    "collapsed": false
   },
   "outputs": [],
   "source": [
    "user = twapi.get_user(twac)"
   ]
  },
  {
   "cell_type": "code",
   "execution_count": null,
   "metadata": {
    "collapsed": false
   },
   "outputs": [],
   "source": [
    "image_url = user.profile_image_url.replace(\"_normal\", \"\")\n",
    "# image_url = user.profile_image_url"
   ]
  },
  {
   "cell_type": "code",
   "execution_count": null,
   "metadata": {
    "collapsed": false
   },
   "outputs": [],
   "source": [
    "img_response = requests.get(image_url, stream=True)\n",
    "img_response"
   ]
  },
  {
   "cell_type": "code",
   "execution_count": null,
   "metadata": {
    "collapsed": false
   },
   "outputs": [],
   "source": [
    "img_response.raw.data"
   ]
  },
  {
   "cell_type": "code",
   "execution_count": null,
   "metadata": {
    "collapsed": false
   },
   "outputs": [],
   "source": [
    "img_response.raw\n",
    "\n",
    "path = \"/Users/hayashi311/Desktop/dev/iosdcjp2016app/WebAPI/static/speakers/{}.jpg\".format(twac)\n",
    "\n",
    "if img_response.status_code == 200:\n",
    "    with open(path, 'wb') as f:\n",
    "        f.write(img_response.raw.data)"
   ]
  },
  {
   "cell_type": "code",
   "execution_count": null,
   "metadata": {
    "collapsed": true
   },
   "outputs": [],
   "source": [
    "    i = img_response.raw"
   ]
  },
  {
   "cell_type": "code",
   "execution_count": null,
   "metadata": {
    "collapsed": false
   },
   "outputs": [],
   "source": [
    "def fetch_user_image(user_name):\n",
    "    jpg_path = \"/Users/hayashi311/Desktop/dev/iosdcjp2016app/WebAPI/static/speakers/{}.jpg\".format(user_name)\n",
    "    if os.path.isfile(jpg_path):\n",
    "        print(user_name,': image file exists')\n",
    "        return \"/static/speakers/{}.jpg\".format(user_name)\n",
    "    png_path = \"/Users/hayashi311/Desktop/dev/iosdcjp2016app/WebAPI/static/speakers/{}.png\".format(user_name)\n",
    "    if os.path.isfile(png_path):\n",
    "        print(user_name,': image file exists')\n",
    "        return \"/static/speakers/{}.png\".format(user_name)\n",
    "    print(user_name,': fetch image')\n",
    "    user = twapi.get_user(twac)\n",
    "    image_url = user.profile_image_url.replace(\"_normal\", \"\")\n",
    "    img_response = requests.get(image_url, stream=True)\n",
    "    if img_response.status_code == 200:\n",
    "        with open(path, 'wb') as f:\n",
    "            f.write(img_response.raw.data)\n",
    "    return \"/static/speakers/{}.jpg\".format(user_name)\n",
    "    \n",
    "\n",
    "fetch_user_image(twitter_account(session))\n",
    "\n"
   ]
  },
  {
   "cell_type": "code",
   "execution_count": null,
   "metadata": {
    "collapsed": true
   },
   "outputs": [],
   "source": []
  },
  {
   "cell_type": "code",
   "execution_count": null,
   "metadata": {
    "collapsed": false
   },
   "outputs": [],
   "source": [
    "for s in normalize_sessions(j):\n",
    "    print(s[\"session\"][\"nid\"], s[\"session\"][\"speaker\"][\"name\"])\n",
    "    twac = twitter_account(s)\n",
    "    if twac is not None:\n",
    "        s[\"session\"][\"speaker\"][\"image\"] = fetch_user_image(twac)\n",
    "    \n",
    "    path = \"/Users/hayashi311/Desktop/dev/iosdcjp2016app/WebAPI/data/speakers/{}.yaml\".format(user_name(s))\n",
    "    f = open(path, 'w')\n",
    "    f.write(yaml.dump(s, default_flow_style=False, allow_unicode=True))\n",
    "    f.close()"
   ]
  },
  {
   "cell_type": "code",
   "execution_count": null,
   "metadata": {
    "collapsed": true
   },
   "outputs": [],
   "source": []
  }
 ],
 "metadata": {
  "kernelspec": {
   "display_name": "Python 3",
   "language": "python",
   "name": "python3"
  },
  "language_info": {
   "codemirror_mode": {
    "name": "ipython",
    "version": 3
   },
   "file_extension": ".py",
   "mimetype": "text/x-python",
   "name": "python",
   "nbconvert_exporter": "python",
   "pygments_lexer": "ipython3",
   "version": "3.5.0"
  }
 },
 "nbformat": 4,
 "nbformat_minor": 0
}
