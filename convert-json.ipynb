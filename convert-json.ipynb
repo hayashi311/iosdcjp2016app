{
 "cells": [
  {
   "cell_type": "code",
   "execution_count": 30,
   "metadata": {
    "collapsed": true
   },
   "outputs": [],
   "source": [
    "import requests\n",
    "import yaml\n",
    "import os.path"
   ]
  },
  {
   "cell_type": "code",
   "execution_count": 31,
   "metadata": {
    "collapsed": false
   },
   "outputs": [],
   "source": [
    "response = requests.get(\"https://iosdc.jp/2016/c/api/talks.json\")"
   ]
  },
  {
   "cell_type": "code",
   "execution_count": 32,
   "metadata": {
    "collapsed": false
   },
   "outputs": [],
   "source": [
    "j = response.json()"
   ]
  },
  {
   "cell_type": "code",
   "execution_count": 33,
   "metadata": {
    "collapsed": false
   },
   "outputs": [
    {
     "data": {
      "text/plain": [
       "40"
      ]
     },
     "execution_count": 33,
     "metadata": {},
     "output_type": "execute_result"
    }
   ],
   "source": [
    "len(j)"
   ]
  },
  {
   "cell_type": "code",
   "execution_count": 34,
   "metadata": {
    "collapsed": false
   },
   "outputs": [
    {
     "data": {
      "text/plain": [
       "{'changed': [{'value': '1471532044'}],\n",
       " 'created': [{'value': '1467108923'}],\n",
       " 'default_langcode': [{'value': '1'}],\n",
       " 'field_abstract': [{'format': None,\n",
       "   'value': 'フリマアプリ フリルはここ1年で2度の大規模リニューアルを行いました。\\nこのトークではフリルでの経験を元に、ユーザーに受け入れられ、問題を起こしづらいリニューアルの進め方をエンジニア目線でお話しします。\\nリニューアルでありがちな大きなバグの発生や、星1レビューの嵐をいかにして防ぐか、開発チームの総力戦となる大規模プロジェクトをいかにスムーズに進めるかについてお話しします。'}],\n",
       " 'field_adoption_no': [],\n",
       " 'field_no': [{'value': '55'}],\n",
       " 'field_slide_will_be_shared': [{'value': '1'}],\n",
       " 'field_speaker': [{'value': 'shoby'}],\n",
       " 'field_speaker_twitter': [{'value': 'shobyshoby'}],\n",
       " 'field_submitted_at': [],\n",
       " 'field_talk_adopted': [{'value': '1'}],\n",
       " 'field_talk_date': [{'value': '2016/08/19'}],\n",
       " 'field_talk_room': [{'value': 'A'}],\n",
       " 'field_talk_start_at': [{'value': '2016/08/19 17:40'}],\n",
       " 'field_talk_time': [{'value': '30分'}],\n",
       " 'langcode': [{'value': 'ja'}],\n",
       " 'nid': [{'value': '84'}],\n",
       " 'path': [],\n",
       " 'promote': [{'value': '1'}],\n",
       " 'revision_log': [],\n",
       " 'revision_timestamp': [{'value': '1467108923'}],\n",
       " 'revision_translation_affected': [{'value': '1'}],\n",
       " 'revision_uid': [{'target_id': '0',\n",
       "   'target_type': 'user',\n",
       "   'target_uuid': '5972e388-7b01-40dd-bc00-d1b758c9850d',\n",
       "   'url': '/2016/c/en/user/0'}],\n",
       " 'status': [{'value': '1'}],\n",
       " 'sticky': [{'value': '0'}],\n",
       " 'title': [{'value': 'ユーザーに受け入れられ、問題を起こしづらい大規模リニューアルの進め方'}],\n",
       " 'type': [{'target_id': 'paper',\n",
       "   'target_type': 'node_type',\n",
       "   'target_uuid': '524edc0e-1589-4a93-8d00-dba5aeea6c69'}],\n",
       " 'uid': [{'target_id': '0',\n",
       "   'target_type': 'user',\n",
       "   'target_uuid': '5972e388-7b01-40dd-bc00-d1b758c9850d',\n",
       "   'url': '/2016/c/en/user/0'}],\n",
       " 'uuid': [{'value': '3364a7eb-d598-4a98-bb03-3b08f0bc4a3f'}],\n",
       " 'vid': [{'value': '88'}]}"
      ]
     },
     "execution_count": 34,
     "metadata": {},
     "output_type": "execute_result"
    }
   ],
   "source": [
    "j[0]"
   ]
  },
  {
   "cell_type": "code",
   "execution_count": 6,
   "metadata": {
    "collapsed": false
   },
   "outputs": [],
   "source": [
    "\n",
    "def normalize(session):\n",
    "    def get_value(d, k):\n",
    "        try:\n",
    "            return d[k][0][\"value\"]\n",
    "        except:\n",
    "            return None\n",
    "    links = []\n",
    "    twitter_account = get_value(session, \"field_speaker_twitter\")\n",
    "    if twitter_account is not None:\n",
    "        links.append({\n",
    "            \"title\": \"@\" + twitter_account,\n",
    "            \"url\": \"https://twitter.com/\" + twitter_account\n",
    "        })\n",
    "    time = get_value(session, \"field_talk_time\")\n",
    "    nid = get_value(session, \"nid\")\n",
    "    enable_to_vote = \n",
    "    if enable_to_vote:\n",
    "        links.append({\n",
    "                \"title\": \"投票\",\n",
    "                \"url\": \"https://iosdc.herokuapp.com/vote/\" + nid\n",
    "            })\n",
    "    return {\n",
    "        \n",
    "        \"session\": {\n",
    "            \"description\": get_value(session, \"field_abstract\"),\n",
    "            \"title\": get_value(session, \"title\"),\n",
    "            \"start_at\": get_value(session, \"field_talk_start_at\"),\n",
    "            \"room\": get_value(session, \"field_talk_room\"),\n",
    "            \"time\": get_value(session, \"field_talk_time\"),\n",
    "            \"nid\": nid,\n",
    "            \"links\": links,\n",
    "            \"speaker\": {\n",
    "                \"name\": get_value(session, \"field_speaker\"),\n",
    "                \"twitter_account\": twitter_account,\n",
    "            },\n",
    "        }\n",
    "    }\n",
    "\n",
    "def normalize_sessions(sessions):\n",
    "    for s in sessions:\n",
    "        yield normalize(s)"
   ]
  },
  {
   "cell_type": "code",
   "execution_count": 7,
   "metadata": {
    "collapsed": false
   },
   "outputs": [],
   "source": [
    "session = list(normalize_sessions(j))[0]\n",
    "def user_name(s):\n",
    "    t = s[\"session\"][\"speaker\"][\"twitter_account\"]\n",
    "    if t is not None:\n",
    "        return t\n",
    "    else:\n",
    "        return s[\"session\"][\"speaker\"][\"name\"]"
   ]
  },
  {
   "cell_type": "code",
   "execution_count": 8,
   "metadata": {
    "collapsed": false,
    "scrolled": true
   },
   "outputs": [
    {
     "data": {
      "text/plain": [
       "{'session': {'description': 'フリマアプリ フリルはここ1年で2度の大規模リニューアルを行いました。\\nこのトークではフリルでの経験を元に、ユーザーに受け入れられ、問題を起こしづらいリニューアルの進め方をエンジニア目線でお話しします。\\nリニューアルでありがちな大きなバグの発生や、星1レビューの嵐をいかにして防ぐか、開発チームの総力戦となる大規模プロジェクトをいかにスムーズに進めるかについてお話しします。',\n",
       "  'links': [{'title': '@shobyshoby', 'url': 'https://twitter.com/shobyshoby'},\n",
       "   {'title': '投票', 'url': 'https://iosdc.herokuapp.com/vote/84'}],\n",
       "  'nid': '84',\n",
       "  'room': 'A',\n",
       "  'speaker': {'name': 'shoby', 'twitter_account': 'shobyshoby'},\n",
       "  'start_at': '2016/08/19 17:40',\n",
       "  'time': '30分',\n",
       "  'title': 'ユーザーに受け入れられ、問題を起こしづらい大規模リニューアルの進め方'}}"
      ]
     },
     "execution_count": 8,
     "metadata": {},
     "output_type": "execute_result"
    }
   ],
   "source": [
    "session"
   ]
  },
  {
   "cell_type": "code",
   "execution_count": 9,
   "metadata": {
    "collapsed": false
   },
   "outputs": [],
   "source": [
    "def twitter_account(s):\n",
    "    t = s[\"session\"][\"speaker\"][\"twitter_account\"]\n",
    "    if t is not None:\n",
    "        return t\n",
    "    else:\n",
    "        return None\n",
    "\n",
    "twac = twitter_account(session)"
   ]
  },
  {
   "cell_type": "code",
   "execution_count": 10,
   "metadata": {
    "collapsed": true
   },
   "outputs": [],
   "source": [
    "import tweepy\n",
    "key = \"\"\n",
    "api_secret = \"\"\n",
    "auth = tweepy.OAuthHandler(key, api_secret)\n",
    "twapi = tweepy.API(auth)"
   ]
  },
  {
   "cell_type": "code",
   "execution_count": null,
   "metadata": {
    "collapsed": false
   },
   "outputs": [],
   "source": [
    "user = twapi.get_user(twac)"
   ]
  },
  {
   "cell_type": "code",
   "execution_count": null,
   "metadata": {
    "collapsed": false
   },
   "outputs": [],
   "source": [
    "image_url = user.profile_image_url.replace(\"_normal\", \"\")\n",
    "# image_url = user.profile_image_url"
   ]
  },
  {
   "cell_type": "code",
   "execution_count": null,
   "metadata": {
    "collapsed": false
   },
   "outputs": [],
   "source": [
    "img_response = requests.get(image_url, stream=True)\n",
    "img_response"
   ]
  },
  {
   "cell_type": "code",
   "execution_count": null,
   "metadata": {
    "collapsed": false
   },
   "outputs": [],
   "source": [
    "img_response.raw.data"
   ]
  },
  {
   "cell_type": "code",
   "execution_count": null,
   "metadata": {
    "collapsed": false
   },
   "outputs": [],
   "source": [
    "img_response.raw\n",
    "\n",
    "path = \"/Users/hayashi311/Desktop/dev/iosdcjp2016app/WebAPI/static/speakers/{}.jpg\".format(twac)\n",
    "\n",
    "if img_response.status_code == 200:\n",
    "    with open(path, 'wb') as f:\n",
    "        f.write(img_response.raw.data)"
   ]
  },
  {
   "cell_type": "code",
   "execution_count": null,
   "metadata": {
    "collapsed": true
   },
   "outputs": [],
   "source": [
    "    i = img_response.raw"
   ]
  },
  {
   "cell_type": "code",
   "execution_count": null,
   "metadata": {
    "collapsed": false
   },
   "outputs": [],
   "source": [
    "def fetch_user_image(user_name):\n",
    "    jpg_path = \"/Users/hayashi311/Desktop/dev/iosdcjp2016app/WebAPI/static/speakers/{}.jpg\".format(user_name)\n",
    "    if os.path.isfile(jpg_path):\n",
    "        print(user_name,': image file exists')\n",
    "        return \"/static/speakers/{}.jpg\".format(user_name)\n",
    "    png_path = \"/Users/hayashi311/Desktop/dev/iosdcjp2016app/WebAPI/static/speakers/{}.png\".format(user_name)\n",
    "    if os.path.isfile(png_path):\n",
    "        print(user_name,': image file exists')\n",
    "        return \"/static/speakers/{}.png\".format(user_name)\n",
    "    print(user_name,': fetch image')\n",
    "    user = twapi.get_user(twac)\n",
    "    image_url = user.profile_image_url.replace(\"_normal\", \"\")\n",
    "    img_response = requests.get(image_url, stream=True)\n",
    "    if img_response.status_code == 200:\n",
    "        with open(path, 'wb') as f:\n",
    "            f.write(img_response.raw.data)\n",
    "    return \"/static/speakers/{}.jpg\".format(user_name)\n",
    "    \n",
    "\n",
    "fetch_user_image(twitter_account(session))\n",
    "\n"
   ]
  },
  {
   "cell_type": "code",
   "execution_count": null,
   "metadata": {
    "collapsed": true
   },
   "outputs": [],
   "source": []
  },
  {
   "cell_type": "code",
   "execution_count": 35,
   "metadata": {
    "collapsed": false
   },
   "outputs": [
    {
     "name": "stdout",
     "output_type": "stream",
     "text": [
      "84 shoby\n",
      "shobyshoby : image file exists\n",
      "72 Yuki Takei\n",
      "noppoMan722 : image file exists\n",
      "34 田中賢治\n",
      "ktanaka117 : image file exists\n",
      "123 kazunori kikuchi\n",
      "kichikuchi : image file exists\n",
      "36 huin\n",
      "huin : image file exists\n",
      "40 宇佐見 公輔\n",
      "usamik26 : image file exists\n",
      "110 へんてこ\n",
      "bilyakudan : image file exists\n",
      "208 Kishikawa Katsumi\n",
      "k_katsumi : image file exists\n",
      "146 堤 修一\n",
      "shu223 : image file exists\n",
      "168 藤崎 智宏/岡田 雅之\n",
      "smadako : image file exists\n",
      "139 ishkawa\n",
      "_ishkawa : image file exists\n",
      "124 meyco\n",
      "meyco : image file exists\n",
      "184 TachibanaKaoru\n",
      "TachibanaKaoru : image file exists\n",
      "41 Yukinaga Azuma\n",
      "yuky_az : image file exists\n",
      "32 稲見 泰宏\n",
      "inamiy : image file exists\n",
      "122 Yusuke Wada\n",
      "yusukebe : image file exists\n",
      "133 Mao Nishi\n",
      "mao_nishi : image file exists\n",
      "54 Kosuke Ogawa\n",
      "koogawa : image file exists\n",
      "129 Ray Fix\n",
      "rayfix : image file exists\n",
      "78 Noritaka Kamiya\n",
      "nolili : image file exists\n",
      "176 Hiroki Kato\n",
      "cockscomb : image file exists\n",
      "65 nakajijapan\n",
      "nakajijapan : image file exists\n",
      "100 Yuichiro Masui\n",
      "masuidrive : image file exists\n",
      "155 小野 将之\n",
      "_mono : image file exists\n",
      "86 熊谷 友宏\n",
      "es_kumagai : image file exists\n",
      "161 satoshi0212\n",
      "shmdevelop : image file exists\n",
      "116 Toshihiro Morimoto\n",
      "dealforest : image file exists\n",
      "71 Yuji Hato\n",
      "dekatotoro : image file exists\n",
      "173 m-naruse\n",
      "37 kaneshin\n",
      "kaneshin0120 : image file exists\n",
      "189 池田 翔\n",
      "ikesyo : image file exists\n",
      "46 よぴた\n",
      "yopita_ : image file exists\n",
      "182 にわタコ\n",
      "niwatako : image file exists\n",
      "165 yimajo\n",
      "yimajo : image file exists\n",
      "188 Yusuke Ohashi\n",
      "iMickx : image file exists\n",
      "154 Motoki Narita\n",
      "motokiee : image file exists\n",
      "55 ezura\n",
      "eduraaa : image file exists\n",
      "162 原 一史\n",
      "haranicle : image file exists\n",
      "187 Yoichiro Sakurai\n",
      "saku2saku : image file exists\n",
      "117 wasabeef\n",
      "wasabeef_jp : image file exists\n"
     ]
    }
   ],
   "source": [
    "for s in normalize_sessions(j):\n",
    "    print(s[\"session\"][\"nid\"], s[\"session\"][\"speaker\"][\"name\"])\n",
    "    twac = twitter_account(s)\n",
    "    if twac is not None:\n",
    "        s[\"session\"][\"speaker\"][\"image\"] = fetch_user_image(twac)\n",
    "    \n",
    "    path = \"/Users/hayashi311/Desktop/dev/iosdcjp2016app/WebAPI/data/speakers/{}.yaml\".format(user_name(s))\n",
    "    f = open(path, 'w')\n",
    "    f.write(yaml.dump(s, default_flow_style=False, allow_unicode=True))\n",
    "    f.close()"
   ]
  },
  {
   "cell_type": "code",
   "execution_count": null,
   "metadata": {
    "collapsed": true
   },
   "outputs": [],
   "source": []
  }
 ],
 "metadata": {
  "kernelspec": {
   "display_name": "Python 3",
   "language": "python",
   "name": "python3"
  },
  "language_info": {
   "codemirror_mode": {
    "name": "ipython",
    "version": 3
   },
   "file_extension": ".py",
   "mimetype": "text/x-python",
   "name": "python",
   "nbconvert_exporter": "python",
   "pygments_lexer": "ipython3",
   "version": "3.5.0"
  }
 },
 "nbformat": 4,
 "nbformat_minor": 0
}
