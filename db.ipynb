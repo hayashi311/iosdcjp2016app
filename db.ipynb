{
 "cells": [
  {
   "cell_type": "code",
   "execution_count": 21,
   "metadata": {
    "collapsed": false
   },
   "outputs": [],
   "source": [
    "from WebAPI.app import db, Vote, Talk, base_path, group_by_time, Address\n",
    "import collections\n",
    "from glob import glob\n",
    "from os import path\n",
    "import yaml"
   ]
  },
  {
   "cell_type": "code",
   "execution_count": 22,
   "metadata": {
    "collapsed": false
   },
   "outputs": [
    {
     "name": "stdout",
     "output_type": "stream",
     "text": [
      "#1:  <Talk '110','RubyでXcodeプロジェクトを解析してみよう'> 4票\n",
      "#2:  <Talk '84','ユーザーに受け入れられ、問題を起こしづらい大規模リニューアルの進め方'> 3票\n",
      "#3:  <Talk '72','Swift3 Web Framework SlimaneとServer Side Swift'> 2票\n"
     ]
    }
   ],
   "source": [
    "# 投票結果\n",
    "db.session.expire_all()\n",
    "all = Vote.query.all()\n",
    "counter = collections.Counter(map(lambda v: v.nid, all))\n",
    "\n",
    "rank = counter.most_common(4)\n",
    "rank = rank[1:]\n",
    "\n",
    "for i, r in enumerate(rank):\n",
    "    print(\"#\" + str(i + 1) + \": \", Talk.query.get(r[0]), str(r[1]) + \"票\")\n",
    "\n"
   ]
  },
  {
   "cell_type": "code",
   "execution_count": null,
   "metadata": {
    "collapsed": true
   },
   "outputs": [],
   "source": [
    "all = Vote.query"
   ]
  },
  {
   "cell_type": "code",
   "execution_count": null,
   "metadata": {
    "collapsed": true
   },
   "outputs": [],
   "source": [
    "all = Vote.query"
   ]
  },
  {
   "cell_type": "code",
   "execution_count": null,
   "metadata": {
    "collapsed": true
   },
   "outputs": [],
   "source": [
    "all = Vote.query.all"
   ]
  },
  {
   "cell_type": "code",
   "execution_count": null,
   "metadata": {
    "collapsed": true
   },
   "outputs": [],
   "source": [
    "all = Vote.query.all"
   ]
  },
  {
   "cell_type": "code",
   "execution_count": null,
   "metadata": {
    "collapsed": false
   },
   "outputs": [],
   "source": [
    "Talk.query.all()"
   ]
  },
  {
   "cell_type": "code",
   "execution_count": null,
   "metadata": {
    "collapsed": false
   },
   "outputs": [],
   "source": [
    "def vote(code, nid):\n",
    "    v = Vote.query.get(code)\n",
    "    if v is not None:\n",
    "        v.nid = nid\n",
    "        try:\n",
    "            db.session.add(v)\n",
    "            db.session.commit()\n",
    "            return True\n",
    "        except:\n",
    "            db.session.rollback()\n",
    "    return False\n",
    "# db.session.commit()"
   ]
  },
  {
   "cell_type": "code",
   "execution_count": null,
   "metadata": {
    "collapsed": true
   },
   "outputs": [],
   "source": [
    "# db.session.rollback()"
   ]
  },
  {
   "cell_type": "code",
   "execution_count": null,
   "metadata": {
    "collapsed": false
   },
   "outputs": [],
   "source": [
    "vote(\"hoge\", \"101\")"
   ]
  },
  {
   "cell_type": "code",
   "execution_count": null,
   "metadata": {
    "collapsed": false
   },
   "outputs": [],
   "source": [
    "vote(\"hoge3\", \"\")"
   ]
  },
  {
   "cell_type": "code",
   "execution_count": null,
   "metadata": {
    "collapsed": true
   },
   "outputs": [],
   "source": [
    "import csv"
   ]
  },
  {
   "cell_type": "code",
   "execution_count": null,
   "metadata": {
    "collapsed": false
   },
   "outputs": [],
   "source": [
    "def codes_from_csv(filename):\n",
    "    with open(filename, newline='') as csvfile:\n",
    "        reader = csv.reader(csvfile, delimiter=',', quotechar='\"')\n",
    "        header = next(reader)\n",
    "#         print(header)\n",
    "        for row in reader:\n",
    "            yield row[0]\n",
    "\n",
    "for code in codes_from_csv(\"special.csv\"):\n",
    "    print(code)"
   ]
  },
  {
   "cell_type": "code",
   "execution_count": null,
   "metadata": {
    "collapsed": true
   },
   "outputs": [],
   "source": [
    "filenames = [\"normal.csv\", \"rebuild.csv\", \"speaker.csv\", \"special.csv\", \"sponsor-extra.csv\", \"sponsor.csv\", \"staff.csv\"]"
   ]
  },
  {
   "cell_type": "code",
   "execution_count": null,
   "metadata": {
    "collapsed": false
   },
   "outputs": [],
   "source": [
    "# 初期データ\n",
    "for f in filenames:\n",
    "    for code in codes_from_csv(f):\n",
    "        v = Vote.query.get(code)\n",
    "        if v is None:\n",
    "            print(code, v)\n",
    "#         v = Vote(code=code, nid=\"-1\")\n",
    "#         print(v)\n",
    "#         db.session.add(v)\n",
    "#         db.session.commit()"
   ]
  },
  {
   "cell_type": "code",
   "execution_count": null,
   "metadata": {
    "collapsed": true
   },
   "outputs": [],
   "source": [
    "# 追加用\n",
    "codes = []\n",
    "\n",
    "for code in codes:\n",
    "    v = Vote(code=code, nid=\"-1\")\n",
    "    db.session.add(v)\n",
    "    db.session.commit()\n",
    "    "
   ]
  },
  {
   "cell_type": "code",
   "execution_count": null,
   "metadata": {
    "collapsed": false
   },
   "outputs": [],
   "source": [
    "# トーク初期データ\n",
    "# yaml_path = path.join(base_path, 'data', 'speakers', '*.yaml')\n",
    "# path_list = glob(yaml_path)\n",
    "# data = list(map(lambda path: yaml.load(open(path).read()), path_list))\n",
    "# for d in data:\n",
    "#     print(d[\"session\"][\"time\"])\n",
    "#     if not d[\"session\"][\"time\"].startswith(\"5分\"):\n",
    "#         t = Talk(nid=d[\"session\"][\"nid\"], title=d[\"session\"][\"title\"], speaker=d[\"session\"][\"speaker\"][\"name\"])\n",
    "#         db.session.add(t)\n",
    "#         print(t, t.speaker)\n",
    "# db.session.commit()"
   ]
  },
  {
   "cell_type": "code",
   "execution_count": null,
   "metadata": {
    "collapsed": true
   },
   "outputs": [],
   "source": [
    "# Vote.query.all()\n",
    "db.session.expire_all()\n",
    "Address.query.all()"
   ]
  }
 ],
 "metadata": {
  "kernelspec": {
   "display_name": "Python 3",
   "language": "python",
   "name": "python3"
  },
  "language_info": {
   "codemirror_mode": {
    "name": "ipython",
    "version": 3
   },
   "file_extension": ".py",
   "mimetype": "text/x-python",
   "name": "python",
   "nbconvert_exporter": "python",
   "pygments_lexer": "ipython3",
   "version": "3.5.0"
  }
 },
 "nbformat": 4,
 "nbformat_minor": 0
}
