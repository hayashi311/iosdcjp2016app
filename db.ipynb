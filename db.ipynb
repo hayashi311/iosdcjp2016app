{
 "cells": [
  {
   "cell_type": "code",
   "execution_count": 13,
   "metadata": {
    "collapsed": false
   },
   "outputs": [],
   "source": [
    "from WebAPI.app import db, Vote, Talk, base_path, group_by_time\n",
    "import collections\n",
    "from glob import glob\n",
    "from os import path\n",
    "import yaml"
   ]
  },
  {
   "cell_type": "code",
   "execution_count": 14,
   "metadata": {
    "collapsed": false
   },
   "outputs": [
    {
     "data": {
      "text/plain": [
       "[<Talk '139','RxSwiftは開発をどう変えたか?'>,\n",
       " <Talk '155','Swiftのこれまでの動向のまとめと今後のさらなる発展の期待'>,\n",
       " <Talk '110','RubyでXcodeプロジェクトを解析してみよう'>,\n",
       " <Talk '176','デザイナーにStoryboardをお任せする技術'>,\n",
       " <Talk '116','Xcode で快適なデバッグライフを追い求める'>,\n",
       " <Talk '71','CarPlayの対応方法と日本での現状'>,\n",
       " <Talk '86','Swift で JavaScript 始めませんか？'>,\n",
       " <Talk '36','フルSwiftでバイクフリマアプリRIDEを作って得た学び'>,\n",
       " <Talk '32','Reactive State Machine'>,\n",
       " <Talk '208','Handling rich text in Swift'>,\n",
       " <Talk '123','AB Tests in Mobile App'>,\n",
       " <Talk '54','「まりも」とiOSの6年間'>,\n",
       " <Talk '34','あのアニメのOP, EDっぽいアニメーションを実装する話（仮）'>,\n",
       " <Talk '133','ドッグフーディングしやすい環境を整える'>,\n",
       " <Talk '100','iOSアプリのリモートサポートツール「ミレタ」の作り方 #WebRTC #Swift #PrivatePod'>,\n",
       " <Talk '124','エンジニア向けSketch3でアイコン作成はじめの一歩'>,\n",
       " <Talk '65','33歳モバイルエンジニア道'>,\n",
       " <Talk '78','iOS I/O 2016 アクセサリといっしょ'>,\n",
       " <Talk '72','Swift3 Web Framework SlimaneとServer Side Swift'>,\n",
       " <Talk '129','メモリー管理の嬉しいバイキング料理'>,\n",
       " <Talk '161','SwiftでのGeoFence実装 - Tipsを添えて'>,\n",
       " <Talk '84','ユーザーに受け入れられ、問題を起こしづらい大規模リニューアルの進め方'>,\n",
       " <Talk '146','海外のiOSカンファレンスに登壇する - 完全版'>,\n",
       " <Talk '168','IPv6 Readyって何だ? NAT64/DNS64の本当の使い方とは？'>,\n",
       " <Talk '184','iOS10時代のCollectionView最新つかいこなし'>,\n",
       " <Talk '40','iOS アプリ開発の補助ツールのベストプラクティス'>,\n",
       " <Talk '41','360°写真、動画を用いたVR対応アプリの開発方法'>,\n",
       " <Talk '122','サーバサイドエンジニアのiOS開発奮闘記'>]"
      ]
     },
     "execution_count": 14,
     "metadata": {},
     "output_type": "execute_result"
    }
   ],
   "source": [
    "# Vote.query.all()\n",
    "Talk.query.all()"
   ]
  },
  {
   "cell_type": "code",
   "execution_count": 15,
   "metadata": {
    "collapsed": false
   },
   "outputs": [
    {
     "data": {
      "text/plain": [
       "Counter({'-1': 537, '125': 1, '176': 1})"
      ]
     },
     "execution_count": 15,
     "metadata": {},
     "output_type": "execute_result"
    }
   ],
   "source": [
    "# すべての投票\n",
    "db.session.expire_all()\n",
    "all = Vote.query.all()\n",
    "counter = collections.Counter(map(lambda v: v.nid, all))\n",
    "\n",
    "counter"
   ]
  },
  {
   "cell_type": "code",
   "execution_count": null,
   "metadata": {
    "collapsed": true
   },
   "outputs": [],
   "source": [
    "all = Vote.query"
   ]
  },
  {
   "cell_type": "code",
   "execution_count": null,
   "metadata": {
    "collapsed": true
   },
   "outputs": [],
   "source": [
    "all = Vote.query"
   ]
  },
  {
   "cell_type": "code",
   "execution_count": null,
   "metadata": {
    "collapsed": true
   },
   "outputs": [],
   "source": [
    "all = Vote.query.all"
   ]
  },
  {
   "cell_type": "code",
   "execution_count": null,
   "metadata": {
    "collapsed": true
   },
   "outputs": [],
   "source": [
    "all = Vote.query.all"
   ]
  },
  {
   "cell_type": "code",
   "execution_count": 24,
   "metadata": {
    "collapsed": false
   },
   "outputs": [
    {
     "data": {
      "text/plain": [
       "[<Talk '139','RxSwiftは開発をどう変えたか?'>,\n",
       " <Talk '155','Swiftのこれまでの動向のまとめと今後のさらなる発展の期待'>,\n",
       " <Talk '110','RubyでXcodeプロジェクトを解析してみよう'>,\n",
       " <Talk '176','デザイナーにStoryboardをお任せする技術'>,\n",
       " <Talk '116','Xcode で快適なデバッグライフを追い求める'>,\n",
       " <Talk '71','CarPlayの対応方法と日本での現状'>,\n",
       " <Talk '86','Swift で JavaScript 始めませんか？'>,\n",
       " <Talk '36','フルSwiftでバイクフリマアプリRIDEを作って得た学び'>,\n",
       " <Talk '32','Reactive State Machine'>,\n",
       " <Talk '208','Handling rich text in Swift'>,\n",
       " <Talk '123','AB Tests in Mobile App'>,\n",
       " <Talk '54','「まりも」とiOSの6年間'>,\n",
       " <Talk '34','あのアニメのOP, EDっぽいアニメーションを実装する話（仮）'>,\n",
       " <Talk '133','ドッグフーディングしやすい環境を整える'>,\n",
       " <Talk '100','iOSアプリのリモートサポートツール「ミレタ」の作り方 #WebRTC #Swift #PrivatePod'>,\n",
       " <Talk '124','エンジニア向けSketch3でアイコン作成はじめの一歩'>,\n",
       " <Talk '65','33歳モバイルエンジニア道'>,\n",
       " <Talk '78','iOS I/O 2016 アクセサリといっしょ'>,\n",
       " <Talk '72','Swift3 Web Framework SlimaneとServer Side Swift'>,\n",
       " <Talk '129','メモリー管理の嬉しいバイキング料理'>,\n",
       " <Talk '161','SwiftでのGeoFence実装 - Tipsを添えて'>,\n",
       " <Talk '84','ユーザーに受け入れられ、問題を起こしづらい大規模リニューアルの進め方'>,\n",
       " <Talk '146','海外のiOSカンファレンスに登壇する - 完全版'>,\n",
       " <Talk '168','IPv6 Readyって何だ? NAT64/DNS64の本当の使い方とは？'>,\n",
       " <Talk '184','iOS10時代のCollectionView最新つかいこなし'>,\n",
       " <Talk '40','iOS アプリ開発の補助ツールのベストプラクティス'>,\n",
       " <Talk '41','360°写真、動画を用いたVR対応アプリの開発方法'>,\n",
       " <Talk '122','サーバサイドエンジニアのiOS開発奮闘記'>]"
      ]
     },
     "execution_count": 24,
     "metadata": {},
     "output_type": "execute_result"
    }
   ],
   "source": [
    "Talk.query.all()"
   ]
  },
  {
   "cell_type": "code",
   "execution_count": 12,
   "metadata": {
    "collapsed": false
   },
   "outputs": [],
   "source": [
    "def vote(code, nid):\n",
    "    v = Vote.query.get(code)\n",
    "    if v is not None:\n",
    "        v.nid = nid\n",
    "        try:\n",
    "            db.session.add(v)\n",
    "            db.session.commit()\n",
    "            return True\n",
    "        except:\n",
    "            db.session.rollback()\n",
    "    return False\n",
    "# db.session.commit()"
   ]
  },
  {
   "cell_type": "code",
   "execution_count": 13,
   "metadata": {
    "collapsed": true
   },
   "outputs": [],
   "source": [
    "# db.session.rollback()"
   ]
  },
  {
   "cell_type": "code",
   "execution_count": 19,
   "metadata": {
    "collapsed": false
   },
   "outputs": [
    {
     "data": {
      "text/plain": [
       "True"
      ]
     },
     "execution_count": 19,
     "metadata": {},
     "output_type": "execute_result"
    }
   ],
   "source": [
    "vote(\"hoge\", \"101\")"
   ]
  },
  {
   "cell_type": "code",
   "execution_count": 15,
   "metadata": {
    "collapsed": false
   },
   "outputs": [
    {
     "data": {
      "text/plain": [
       "False"
      ]
     },
     "execution_count": 15,
     "metadata": {},
     "output_type": "execute_result"
    }
   ],
   "source": [
    "vote(\"hoge3\", \"\")"
   ]
  },
  {
   "cell_type": "code",
   "execution_count": 7,
   "metadata": {
    "collapsed": true
   },
   "outputs": [],
   "source": [
    "import csv"
   ]
  },
  {
   "cell_type": "code",
   "execution_count": 8,
   "metadata": {
    "collapsed": false
   },
   "outputs": [
    {
     "name": "stdout",
     "output_type": "stream",
     "text": [
      "01BI8GYAP7GD\n",
      "01AEMKYAP86A\n",
      "019388YAP86H\n",
      "01I1K9YAP87D\n",
      "01J5PEYAP8ER\n",
      "0117H1YAP8DJ\n",
      "01PKZEYAP8GJ\n",
      "014CQFYAP8JP\n",
      "01H289YAP8Q3\n",
      "012D6KYAP9VA\n",
      "0151SRYAPCCD\n",
      "01FS86YAPPB8\n",
      "01PTM6YAQ93A\n",
      "010ZWQYAR5GF\n",
      "01E94NYATJAU\n"
     ]
    }
   ],
   "source": [
    "def codes_from_csv(filename):\n",
    "    with open(filename, newline='') as csvfile:\n",
    "        reader = csv.reader(csvfile, delimiter=',', quotechar='\"')\n",
    "        header = next(reader)\n",
    "        for row in reader:\n",
    "            yield row[0]\n",
    "\n",
    "for code in codes_from_csv(\"special.csv\"):\n",
    "    print(code)"
   ]
  },
  {
   "cell_type": "code",
   "execution_count": 9,
   "metadata": {
    "collapsed": true
   },
   "outputs": [],
   "source": [
    "filenames = [\"normal.csv\", \"rebuild.csv\", \"speaker.csv\", \"special.csv\", \"sponsor-extra.csv\", \"sponsor.csv\", \"staff.csv\"]"
   ]
  },
  {
   "cell_type": "code",
   "execution_count": 10,
   "metadata": {
    "collapsed": false
   },
   "outputs": [],
   "source": [
    "# 初期データ\n",
    "# for f in filenames:\n",
    "#     for code in codes_from_csv(f):\n",
    "#         v = Vote(code=code, nid=\"-1\")\n",
    "#         print(v)\n",
    "#         db.session.add(v)\n",
    "#         db.session.commit()"
   ]
  },
  {
   "cell_type": "code",
   "execution_count": 4,
   "metadata": {
    "collapsed": false
   },
   "outputs": [
    {
     "name": "stdout",
     "output_type": "stream",
     "text": [
      "30分\n",
      "<Talk '139','RxSwiftは開発をどう変えたか?'> ishkawa\n",
      "15分\n",
      "<Talk '155','Swiftのこれまでの動向のまとめと今後のさらなる発展の期待'> 小野 将之\n",
      "15分\n",
      "<Talk '110','RubyでXcodeプロジェクトを解析してみよう'> へんてこ\n",
      "30分\n",
      "<Talk '176','デザイナーにStoryboardをお任せする技術'> Hiroki Kato\n",
      "15分\n",
      "<Talk '116','Xcode で快適なデバッグライフを追い求める'> Toshihiro Morimoto\n",
      "15分\n",
      "<Talk '71','CarPlayの対応方法と日本での現状'> Yuji Hato\n",
      "5分（LT）\n",
      "15分\n",
      "<Talk '86','Swift で JavaScript 始めませんか？'> 熊谷 友宏\n",
      "5分（LT）\n",
      "30分\n",
      "<Talk '36','フルSwiftでバイクフリマアプリRIDEを作って得た学び'> huin\n",
      "5分（LT）\n",
      "5分（LT）\n",
      "30分\n",
      "<Talk '32','Reactive State Machine'> 稲見 泰宏\n",
      "30分\n",
      "<Talk '208','Handling rich text in Swift'> Kishikawa Katsumi\n",
      "5分（LT）\n",
      "15分\n",
      "<Talk '123','AB Tests in Mobile App'> kazunori kikuchi\n",
      "15分\n",
      "<Talk '54','「まりも」とiOSの6年間'> Kosuke Ogawa\n",
      "15分\n",
      "<Talk '34','あのアニメのOP, EDっぽいアニメーションを実装する話（仮）'> 田中賢治\n",
      "5分（LT）\n",
      "15分\n",
      "<Talk '133','ドッグフーディングしやすい環境を整える'> Mao Nishi\n",
      "15分\n",
      "<Talk '100','iOSアプリのリモートサポートツール「ミレタ」の作り方 #WebRTC #Swift #PrivatePod'> Yuichiro Masui\n",
      "30分\n",
      "<Talk '124','エンジニア向けSketch3でアイコン作成はじめの一歩'> meyco\n",
      "5分（LT）\n",
      "30分\n",
      "<Talk '65','33歳モバイルエンジニア道'> nakajijapan\n",
      "5分（LT）\n",
      "15分\n",
      "<Talk '78','iOS I/O 2016 アクセサリといっしょ'> Noritaka Kamiya\n",
      "30分\n",
      "<Talk '72','Swift3 Web Framework SlimaneとServer Side Swift'> Yuki Takei\n",
      "15分\n",
      "<Talk '129','メモリー管理の嬉しいバイキング料理'> Ray Fix\n",
      "5分（LT）\n",
      "15分\n",
      "<Talk '161','SwiftでのGeoFence実装 - Tipsを添えて'> satoshi0212\n",
      "30分\n",
      "<Talk '84','ユーザーに受け入れられ、問題を起こしづらい大規模リニューアルの進め方'> shoby\n",
      "15分\n",
      "<Talk '146','海外のiOSカンファレンスに登壇する - 完全版'> 堤 修一\n",
      "15分\n",
      "<Talk '168','IPv6 Readyって何だ? NAT64/DNS64の本当の使い方とは？'> 藤崎 智宏/岡田 雅之\n",
      "15分\n",
      "<Talk '184','iOS10時代のCollectionView最新つかいこなし'> TachibanaKaoru\n",
      "15分\n",
      "<Talk '40','iOS アプリ開発の補助ツールのベストプラクティス'> 宇佐見 公輔\n",
      "5分（LT）\n",
      "5分（LT）\n",
      "5分（LT）\n",
      "15分\n",
      "<Talk '41','360°写真、動画を用いたVR対応アプリの開発方法'> Yukinaga Azuma\n",
      "30分\n",
      "<Talk '122','サーバサイドエンジニアのiOS開発奮闘記'> Yusuke Wada\n"
     ]
    }
   ],
   "source": [
    "# トーク初期データ\n",
    "# yaml_path = path.join(base_path, 'data', 'speakers', '*.yaml')\n",
    "# path_list = glob(yaml_path)\n",
    "# data = list(map(lambda path: yaml.load(open(path).read()), path_list))\n",
    "# for d in data:\n",
    "#     print(d[\"session\"][\"time\"])\n",
    "#     if not d[\"session\"][\"time\"].startswith(\"5分\"):\n",
    "#         t = Talk(nid=d[\"session\"][\"nid\"], title=d[\"session\"][\"title\"], speaker=d[\"session\"][\"speaker\"][\"name\"])\n",
    "#         db.session.add(t)\n",
    "#         print(t, t.speaker)\n",
    "# db.session.commit()"
   ]
  },
  {
   "cell_type": "code",
   "execution_count": null,
   "metadata": {
    "collapsed": true
   },
   "outputs": [],
   "source": []
  }
 ],
 "metadata": {
  "kernelspec": {
   "display_name": "Python 3",
   "language": "python",
   "name": "python3"
  },
  "language_info": {
   "codemirror_mode": {
    "name": "ipython",
    "version": 3
   },
   "file_extension": ".py",
   "mimetype": "text/x-python",
   "name": "python",
   "nbconvert_exporter": "python",
   "pygments_lexer": "ipython3",
   "version": "3.5.0"
  }
 },
 "nbformat": 4,
 "nbformat_minor": 0
}
